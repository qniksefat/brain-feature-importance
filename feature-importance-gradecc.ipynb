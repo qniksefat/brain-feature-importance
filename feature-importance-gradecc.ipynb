{
 "cells": [
  {
   "cell_type": "code",
   "execution_count": 196,
   "metadata": {
    "_cell_guid": "b1076dfc-b9ad-4769-8c92-a6c4dae69d19",
    "_uuid": "8f2839f25d086af736a60e9eeb907d3b93b6e0e5",
    "pycharm": {
     "name": "#%%\n"
    }
   },
   "outputs": [],
   "source": [
    "import numpy as np # linear algebra\n",
    "import pandas as pd # data processing, CSV file I/O (e.g. pd.read_csv)\n",
    "import matplotlib.pyplot as plt  # for plotting facilities"
   ]
  },
  {
   "cell_type": "code",
   "execution_count": 197,
   "metadata": {
    "_cell_guid": "",
    "_uuid": "",
    "pycharm": {
     "name": "#%%\n"
    }
   },
   "outputs": [],
   "source": [
    "data = 'feature_metric.csv'\n",
    "\n",
    "df = pd.read_csv(data)\n",
    "df = df[['region', 'measure', 'epoch_', 'value',\n",
    "       'Subject', 'Score_median_first20']]"
   ]
  },
  {
   "cell_type": "code",
   "execution_count": 198,
   "outputs": [],
   "source": [
    "### agg cortex into 14 nodes"
   ],
   "metadata": {
    "collapsed": false,
    "pycharm": {
     "name": "#%%\n"
    }
   }
  },
  {
   "cell_type": "code",
   "execution_count": 199,
   "outputs": [
    {
     "data": {
      "text/plain": "0       7Networks_LH_Vis_1\n1       7Networks_LH_Vis_2\n2       7Networks_LH_Vis_3\n3       7Networks_LH_Vis_4\n4       7Networks_LH_Vis_5\n               ...        \n1035             Vermis IX\n1036              Right IX\n1037                Left X\n1038              Vermis X\n1039               Right X\nName: region, Length: 1040, dtype: object"
     },
     "execution_count": 199,
     "metadata": {},
     "output_type": "execute_result"
    }
   ],
   "source": [
    "r = df.region.drop_duplicates()\n",
    "r"
   ],
   "metadata": {
    "collapsed": false,
    "pycharm": {
     "name": "#%%\n"
    }
   }
  },
  {
   "cell_type": "code",
   "execution_count": 200,
   "outputs": [
    {
     "data": {
      "text/plain": "    hemisphere  network position num\n0           LH      Vis     None   1\n1           LH      Vis     None   2\n2           LH      Vis     None   3\n3           LH      Vis     None   4\n4           LH      Vis     None   5\n..         ...      ...      ...  ..\n993         RH  Default  pCunPCC  16\n994         RH  Default  pCunPCC  17\n995         RH  Default  pCunPCC  18\n996         RH     Cont     pCun   2\n997         RH     Cont     pCun   4\n\n[998 rows x 4 columns]",
      "text/html": "<div>\n<style scoped>\n    .dataframe tbody tr th:only-of-type {\n        vertical-align: middle;\n    }\n\n    .dataframe tbody tr th {\n        vertical-align: top;\n    }\n\n    .dataframe thead th {\n        text-align: right;\n    }\n</style>\n<table border=\"1\" class=\"dataframe\">\n  <thead>\n    <tr style=\"text-align: right;\">\n      <th></th>\n      <th>hemisphere</th>\n      <th>network</th>\n      <th>position</th>\n      <th>num</th>\n    </tr>\n  </thead>\n  <tbody>\n    <tr>\n      <th>0</th>\n      <td>LH</td>\n      <td>Vis</td>\n      <td>None</td>\n      <td>1</td>\n    </tr>\n    <tr>\n      <th>1</th>\n      <td>LH</td>\n      <td>Vis</td>\n      <td>None</td>\n      <td>2</td>\n    </tr>\n    <tr>\n      <th>2</th>\n      <td>LH</td>\n      <td>Vis</td>\n      <td>None</td>\n      <td>3</td>\n    </tr>\n    <tr>\n      <th>3</th>\n      <td>LH</td>\n      <td>Vis</td>\n      <td>None</td>\n      <td>4</td>\n    </tr>\n    <tr>\n      <th>4</th>\n      <td>LH</td>\n      <td>Vis</td>\n      <td>None</td>\n      <td>5</td>\n    </tr>\n    <tr>\n      <th>...</th>\n      <td>...</td>\n      <td>...</td>\n      <td>...</td>\n      <td>...</td>\n    </tr>\n    <tr>\n      <th>993</th>\n      <td>RH</td>\n      <td>Default</td>\n      <td>pCunPCC</td>\n      <td>16</td>\n    </tr>\n    <tr>\n      <th>994</th>\n      <td>RH</td>\n      <td>Default</td>\n      <td>pCunPCC</td>\n      <td>17</td>\n    </tr>\n    <tr>\n      <th>995</th>\n      <td>RH</td>\n      <td>Default</td>\n      <td>pCunPCC</td>\n      <td>18</td>\n    </tr>\n    <tr>\n      <th>996</th>\n      <td>RH</td>\n      <td>Cont</td>\n      <td>pCun</td>\n      <td>2</td>\n    </tr>\n    <tr>\n      <th>997</th>\n      <td>RH</td>\n      <td>Cont</td>\n      <td>pCun</td>\n      <td>4</td>\n    </tr>\n  </tbody>\n</table>\n<p>998 rows × 4 columns</p>\n</div>"
     },
     "execution_count": 200,
     "metadata": {},
     "output_type": "execute_result"
    }
   ],
   "source": [
    "cortex = r[:998].apply(lambda x: x[10:].split('_'))\n",
    "cortex = cortex.tolist()\n",
    "cortex = pd.DataFrame(cortex, columns=['hemisphere', 'network', 'position', 'num'])\n",
    "cortex['num'] = cortex.apply(lambda r: r['position'] if not r['num'] else r['num'], axis=1)\n",
    "cortex['position'] = cortex.apply(lambda r: None if not r['num'] != r['position'] else r['position'], axis=1)\n",
    "cortex"
   ],
   "metadata": {
    "collapsed": false,
    "pycharm": {
     "name": "#%%\n"
    }
   }
  },
  {
   "cell_type": "code",
   "execution_count": 201,
   "outputs": [
    {
     "data": {
      "text/plain": "       hemisphere  network position  num\ncount         998      998      643  998\nunique          2        7       23  103\ntop            LH  Default     Post    1\nfreq          500      212      102   49",
      "text/html": "<div>\n<style scoped>\n    .dataframe tbody tr th:only-of-type {\n        vertical-align: middle;\n    }\n\n    .dataframe tbody tr th {\n        vertical-align: top;\n    }\n\n    .dataframe thead th {\n        text-align: right;\n    }\n</style>\n<table border=\"1\" class=\"dataframe\">\n  <thead>\n    <tr style=\"text-align: right;\">\n      <th></th>\n      <th>hemisphere</th>\n      <th>network</th>\n      <th>position</th>\n      <th>num</th>\n    </tr>\n  </thead>\n  <tbody>\n    <tr>\n      <th>count</th>\n      <td>998</td>\n      <td>998</td>\n      <td>643</td>\n      <td>998</td>\n    </tr>\n    <tr>\n      <th>unique</th>\n      <td>2</td>\n      <td>7</td>\n      <td>23</td>\n      <td>103</td>\n    </tr>\n    <tr>\n      <th>top</th>\n      <td>LH</td>\n      <td>Default</td>\n      <td>Post</td>\n      <td>1</td>\n    </tr>\n    <tr>\n      <th>freq</th>\n      <td>500</td>\n      <td>212</td>\n      <td>102</td>\n      <td>49</td>\n    </tr>\n  </tbody>\n</table>\n</div>"
     },
     "execution_count": 201,
     "metadata": {},
     "output_type": "execute_result"
    }
   ],
   "source": [
    "cortex.describe()"
   ],
   "metadata": {
    "collapsed": false,
    "pycharm": {
     "name": "#%%\n"
    }
   }
  },
  {
   "cell_type": "code",
   "execution_count": 202,
   "outputs": [
    {
     "data": {
      "text/plain": "       hemisphere network position  num\ncount          42      42        6    0\nunique          3      16        2    0\ntop          Left    Crus        I  NaN\nfreq           17       6        3  NaN",
      "text/html": "<div>\n<style scoped>\n    .dataframe tbody tr th:only-of-type {\n        vertical-align: middle;\n    }\n\n    .dataframe tbody tr th {\n        vertical-align: top;\n    }\n\n    .dataframe thead th {\n        text-align: right;\n    }\n</style>\n<table border=\"1\" class=\"dataframe\">\n  <thead>\n    <tr style=\"text-align: right;\">\n      <th></th>\n      <th>hemisphere</th>\n      <th>network</th>\n      <th>position</th>\n      <th>num</th>\n    </tr>\n  </thead>\n  <tbody>\n    <tr>\n      <th>count</th>\n      <td>42</td>\n      <td>42</td>\n      <td>6</td>\n      <td>0</td>\n    </tr>\n    <tr>\n      <th>unique</th>\n      <td>3</td>\n      <td>16</td>\n      <td>2</td>\n      <td>0</td>\n    </tr>\n    <tr>\n      <th>top</th>\n      <td>Left</td>\n      <td>Crus</td>\n      <td>I</td>\n      <td>NaN</td>\n    </tr>\n    <tr>\n      <th>freq</th>\n      <td>17</td>\n      <td>6</td>\n      <td>3</td>\n      <td>NaN</td>\n    </tr>\n  </tbody>\n</table>\n</div>"
     },
     "execution_count": 202,
     "metadata": {},
     "output_type": "execute_result"
    }
   ],
   "source": [
    "subc = r[998:].apply(lambda x: x.split(' '))\n",
    "subc = subc.to_list()\n",
    "subc = pd.DataFrame(subc, columns=['hemisphere', 'network', 'position'])\n",
    "subc['num'] = None\n",
    "subc.describe()"
   ],
   "metadata": {
    "collapsed": false,
    "pycharm": {
     "name": "#%%\n"
    }
   }
  },
  {
   "cell_type": "code",
   "execution_count": 203,
   "outputs": [],
   "source": [
    "cortex['r'] = 'cor_' + cortex['hemisphere'] + '_' + cortex['network']\n",
    "subc['r'] = 'subc_' + subc['hemisphere']\n",
    "# 14 regions from cortex, 3 regions from subc"
   ],
   "metadata": {
    "collapsed": false,
    "pycharm": {
     "name": "#%%\n"
    }
   }
  },
  {
   "cell_type": "code",
   "execution_count": 205,
   "outputs": [
    {
     "data": {
      "text/plain": "       region_agg              region\n0      cor_LH_Vis  7Networks_LH_Vis_1\n1      cor_LH_Vis  7Networks_LH_Vis_2\n2      cor_LH_Vis  7Networks_LH_Vis_3\n3      cor_LH_Vis  7Networks_LH_Vis_4\n4      cor_LH_Vis  7Networks_LH_Vis_5\n...           ...                 ...\n1035  subc_Vermis           Vermis IX\n1036   subc_Right            Right IX\n1037    subc_Left              Left X\n1038  subc_Vermis            Vermis X\n1039   subc_Right             Right X\n\n[1040 rows x 2 columns]",
      "text/html": "<div>\n<style scoped>\n    .dataframe tbody tr th:only-of-type {\n        vertical-align: middle;\n    }\n\n    .dataframe tbody tr th {\n        vertical-align: top;\n    }\n\n    .dataframe thead th {\n        text-align: right;\n    }\n</style>\n<table border=\"1\" class=\"dataframe\">\n  <thead>\n    <tr style=\"text-align: right;\">\n      <th></th>\n      <th>region_agg</th>\n      <th>region</th>\n    </tr>\n  </thead>\n  <tbody>\n    <tr>\n      <th>0</th>\n      <td>cor_LH_Vis</td>\n      <td>7Networks_LH_Vis_1</td>\n    </tr>\n    <tr>\n      <th>1</th>\n      <td>cor_LH_Vis</td>\n      <td>7Networks_LH_Vis_2</td>\n    </tr>\n    <tr>\n      <th>2</th>\n      <td>cor_LH_Vis</td>\n      <td>7Networks_LH_Vis_3</td>\n    </tr>\n    <tr>\n      <th>3</th>\n      <td>cor_LH_Vis</td>\n      <td>7Networks_LH_Vis_4</td>\n    </tr>\n    <tr>\n      <th>4</th>\n      <td>cor_LH_Vis</td>\n      <td>7Networks_LH_Vis_5</td>\n    </tr>\n    <tr>\n      <th>...</th>\n      <td>...</td>\n      <td>...</td>\n    </tr>\n    <tr>\n      <th>1035</th>\n      <td>subc_Vermis</td>\n      <td>Vermis IX</td>\n    </tr>\n    <tr>\n      <th>1036</th>\n      <td>subc_Right</td>\n      <td>Right IX</td>\n    </tr>\n    <tr>\n      <th>1037</th>\n      <td>subc_Left</td>\n      <td>Left X</td>\n    </tr>\n    <tr>\n      <th>1038</th>\n      <td>subc_Vermis</td>\n      <td>Vermis X</td>\n    </tr>\n    <tr>\n      <th>1039</th>\n      <td>subc_Right</td>\n      <td>Right X</td>\n    </tr>\n  </tbody>\n</table>\n<p>1040 rows × 2 columns</p>\n</div>"
     },
     "execution_count": 205,
     "metadata": {},
     "output_type": "execute_result"
    }
   ],
   "source": [
    "regions_agg = pd.concat([cortex.r, subc.r], axis=0).reset_index(drop=True)\n",
    "regions_agg = pd.concat([regions_agg.rename('region_agg'), r], axis=1)\n",
    "regions_agg"
   ],
   "metadata": {
    "collapsed": false,
    "pycharm": {
     "name": "#%%\n"
    }
   }
  },
  {
   "cell_type": "code",
   "execution_count": 205,
   "outputs": [],
   "source": [],
   "metadata": {
    "collapsed": false,
    "pycharm": {
     "name": "#%%\n"
    }
   }
  },
  {
   "cell_type": "code",
   "execution_count": 206,
   "outputs": [],
   "source": [
    "dfecc = df[df['measure'] == 'eccentricity']\n",
    "dfecc = df[df['epoch_'] == 'b2e']\n",
    "dfecc = dfecc.merge(regions_agg, on='region')"
   ],
   "metadata": {
    "collapsed": false,
    "pycharm": {
     "name": "#%%\n"
    }
   }
  },
  {
   "cell_type": "code",
   "execution_count": 207,
   "outputs": [],
   "source": [
    "# dfecc.groupby(['Subject', 'measure', 'epoch_', 'region_agg'])['value'].mean()\n",
    "# by default, pivot_table takes mean"
   ],
   "metadata": {
    "collapsed": false,
    "pycharm": {
     "name": "#%%\n"
    }
   }
  },
  {
   "cell_type": "code",
   "execution_count": 208,
   "outputs": [
    {
     "data": {
      "text/plain": "                                   value                                 \\\nepoch_                               b2e                                  \nregion_agg                   cor_LH_Cont cor_LH_Default cor_LH_DorsAttn   \nSubject Score_median_first20                                              \nAB1     14.0                    0.096832       0.285795        0.336393   \nAG1     47.0                    0.023247       0.134270        0.016678   \nAH1     41.5                   -0.323308      -0.037860       -0.711544   \nAM1     27.0                    0.175577       0.412751        0.288554   \nAP1     17.0                    0.467508       0.169592       -0.193752   \nAV1     48.5                   -0.038907      -0.278500        0.676340   \nBN1     75.0                    0.056349      -0.016979       -0.353304   \nCD1     15.0                    0.051840      -0.055279       -0.196941   \nCG1     32.0                    0.108409       0.024720        0.175183   \nCH1     39.0                    0.177342      -0.087421       -0.016997   \nCK1     34.0                    0.086924       0.137110        0.299040   \nCM1     29.5                    0.210084      -0.287603        0.282841   \nCM2     73.0                    0.268694       0.294601       -0.253968   \nEH1     21.0                    0.387339       0.257275        0.291328   \nEK1     12.0                    0.013718      -0.145739        0.582988   \nHK1     17.0                    0.321216       0.582425        0.415549   \nHS1     67.0                    0.170226      -0.168491        0.353160   \nJC1     12.5                    0.441986       0.234091        0.437221   \nJH1     8.5                    -0.026666       0.106128        0.104092   \nJM1     34.0                   -0.281974      -0.076701        0.006779   \nJR1     34.0                   -0.072512       0.251876       -0.125334   \nJS1     57.0                    0.057821       0.119935        0.076817   \nKK1     11.5                   -0.025902       0.484708        0.069643   \nKP1     38.0                    0.131821       0.172627        0.242722   \nKR1     25.0                    0.492554       0.689035        0.391546   \nLB1     12.0                   -0.088604       0.422639        0.162973   \nMB1     39.0                   -0.056847       0.236683       -0.310333   \nMG1     57.0                   -0.252071      -0.571489       -0.340796   \nMP1     45.0                    0.038101      -0.436873       -0.311200   \nNW1     26.0                   -0.284932      -0.155696        0.231738   \nSK1     39.0                    0.353440       0.344001       -0.212267   \nSM2     44.0                    0.156058       0.257919        0.384763   \nSR1     21.5                   -0.047300      -0.070251       -0.042661   \nUP1     46.0                    0.141589       0.151221        0.142272   \nWK1     62.0                    0.068048       0.233606        0.053965   \nZN1     55.0                    0.146824      -0.541973       -0.176711   \n\n                                                                             \\\nepoch_                                                                        \nregion_agg                   cor_LH_Limbic cor_LH_SalVentAttn cor_LH_SomMot   \nSubject Score_median_first20                                                  \nAB1     14.0                      0.191118           0.141011      0.004024   \nAG1     47.0                     -0.172098           0.584519      0.466026   \nAH1     41.5                     -0.305593          -0.227577      0.013477   \nAM1     27.0                      0.048740           0.684970      0.351564   \nAP1     17.0                     -0.240978           0.309113     -0.226975   \nAV1     48.5                     -0.182464           0.137662      0.267408   \nBN1     75.0                     -0.461987          -0.095968     -0.302246   \nCD1     15.0                     -0.095444          -0.239501     -0.159295   \nCG1     32.0                     -0.050737          -0.377077     -0.248930   \nCH1     39.0                     -0.433329          -0.306632     -0.416012   \nCK1     34.0                     -0.123841           0.162907      0.514591   \nCM1     29.5                      0.191320          -0.181049      0.408398   \nCM2     73.0                      0.040571          -0.332977     -0.143175   \nEH1     21.0                      0.031696           0.448034      0.225895   \nEK1     12.0                      0.007816           0.292638      0.670939   \nHK1     17.0                      0.005094           0.273420      0.180396   \nHS1     67.0                     -0.060915           0.104842      0.046738   \nJC1     12.5                     -0.171470           0.216009     -0.057136   \nJH1     8.5                       0.458677          -0.207485     -0.334236   \nJM1     34.0                     -0.074407           0.129751      0.341420   \nJR1     34.0                      0.136915          -0.049604     -0.354429   \nJS1     57.0                     -0.161564           0.178161      0.385102   \nKK1     11.5                     -0.103952           0.453943      0.125557   \nKP1     38.0                     -0.000527           0.143837     -0.173275   \nKR1     25.0                      0.061062           0.117760      0.363120   \nLB1     12.0                     -0.061952           0.070794     -0.100209   \nMB1     39.0                     -0.420323           0.395842     -0.279680   \nMG1     57.0                     -0.205559          -0.285394     -0.190710   \nMP1     45.0                     -0.566607          -0.674823     -0.209500   \nNW1     26.0                     -0.321735           0.158029      0.738793   \nSK1     39.0                      0.011286          -0.277125     -0.489517   \nSM2     44.0                      0.080896           0.152030      0.202089   \nSR1     21.5                     -0.290926          -0.490961      0.141022   \nUP1     46.0                      0.022815           0.133355      0.163306   \nWK1     62.0                      0.047418          -0.042987      0.142878   \nZN1     55.0                     -0.314063           0.160933     -0.103045   \n\n                                                                    \\\nepoch_                                                               \nregion_agg                   cor_LH_Vis cor_RH_Cont cor_RH_Default   \nSubject Score_median_first20                                         \nAB1     14.0                   0.448154   -0.133301      -0.009500   \nAG1     47.0                  -0.106237    0.255863      -0.195050   \nAH1     41.5                  -0.423758   -0.185166      -0.366852   \nAM1     27.0                   0.214291    0.090384       0.558743   \nAP1     17.0                   0.522462   -0.106493      -0.040279   \nAV1     48.5                  -0.640726   -0.031024      -0.274715   \nBN1     75.0                  -0.727874   -0.240385      -0.361364   \nCD1     15.0                   0.439867    0.079581      -0.485805   \nCG1     32.0                  -0.497208    0.301012      -0.195419   \nCH1     39.0                  -0.262217    0.006448      -0.122991   \nCK1     34.0                   0.492125    0.150974       0.323942   \nCM1     29.5                  -0.415814    0.109322      -0.269060   \nCM2     73.0                  -0.212977    0.415070       0.127135   \nEH1     21.0                  -0.088108    0.405360       0.145292   \nEK1     12.0                   0.623340   -0.264783       0.040501   \nHK1     17.0                   0.045845    0.132566       0.025067   \nHS1     67.0                   0.540557    0.363904      -0.218475   \nJC1     12.5                   0.280812   -0.175299       0.204475   \nJH1     8.5                    0.130646   -0.122474       0.023361   \nJM1     34.0                  -0.310428   -0.134713      -0.202092   \nJR1     34.0                  -0.095955    0.192945      -0.159106   \nJS1     57.0                  -0.150975   -0.237924      -0.045934   \nKK1     11.5                   0.744675    0.217756       0.099546   \nKP1     38.0                   0.350981    0.013444      -0.083172   \nKR1     25.0                   0.007332    0.464407       0.486510   \nLB1     12.0                   0.464483    0.166278      -0.112810   \nMB1     39.0                  -0.298043   -0.335835      -0.135304   \nMG1     57.0                  -0.268854   -0.198966      -0.395889   \nMP1     45.0                  -1.388130   -0.376981      -0.475804   \nNW1     26.0                  -0.509783   -0.087884      -0.138356   \nSK1     39.0                  -0.061978    0.330996       0.195117   \nSM2     44.0                   0.151459   -0.094142      -0.164098   \nSR1     21.5                  -0.125938   -0.084477      -0.511392   \nUP1     46.0                   1.118926   -0.426311      -0.036800   \nWK1     62.0                  -0.112929    0.186223       0.062975   \nZN1     55.0                  -0.715399   -0.297575      -0.164273   \n\n                                                                               \\\nepoch_                                                                          \nregion_agg                   cor_RH_DorsAttn cor_RH_Limbic cor_RH_SalVentAttn   \nSubject Score_median_first20                                                    \nAB1     14.0                        0.718707      0.033962           0.088570   \nAG1     47.0                        0.175015      0.100814           0.383854   \nAH1     41.5                       -0.494792     -0.286635          -0.151108   \nAM1     27.0                       -0.080070      0.150474           0.624782   \nAP1     17.0                       -0.234033     -0.575223          -0.114633   \nAV1     48.5                        0.355416     -0.015683          -0.228331   \nBN1     75.0                       -0.243420     -0.357939          -0.248423   \nCD1     15.0                       -0.051421     -0.295864          -0.196582   \nCG1     32.0                        0.396552     -0.098774           0.029727   \nCH1     39.0                       -0.126323     -0.404632          -0.520902   \nCK1     34.0                        0.202864      0.062451          -0.201537   \nCM1     29.5                       -0.058011     -0.289565          -0.306033   \nCM2     73.0                        0.055575     -0.087133          -0.163736   \nEH1     21.0                        0.361376      0.181480           0.309237   \nEK1     12.0                        0.387089     -0.033781           0.560147   \nHK1     17.0                        0.036989     -0.262870           0.033580   \nHS1     67.0                        0.434677      0.051692           0.251354   \nJC1     12.5                        0.016970     -0.273127           0.104580   \nJH1     8.5                         0.134300      0.100017           0.038777   \nJM1     34.0                        0.027413     -0.243208          -0.365198   \nJR1     34.0                       -0.083395     -0.114102          -0.111037   \nJS1     57.0                       -0.095143      0.030309           0.066808   \nKK1     11.5                        0.239251      0.041224           0.429918   \nKP1     38.0                        0.126382     -0.044354           0.048137   \nKR1     25.0                        0.257641     -0.008868           0.167348   \nLB1     12.0                        0.365456     -0.139236          -0.022398   \nMB1     39.0                       -0.234160     -0.302696           0.003819   \nMG1     57.0                       -0.384115     -0.347200          -0.225898   \nMP1     45.0                       -0.486909     -0.833874          -0.545897   \nNW1     26.0                        0.496930     -0.181796          -0.025801   \nSK1     39.0                       -0.078838      0.092912          -0.110644   \nSM2     44.0                        0.193566      0.104784          -0.063945   \nSR1     21.5                        0.142195     -0.459900          -0.573242   \nUP1     46.0                        0.057457     -0.140345          -0.173087   \nWK1     62.0                       -0.040481     -0.191279          -0.016101   \nZN1     55.0                       -0.387589     -0.273056          -0.072217   \n\n                                                                            \\\nepoch_                                                                       \nregion_agg                   cor_RH_SomMot cor_RH_Vis subc_Left subc_Right   \nSubject Score_median_first20                                                 \nAB1     14.0                      0.153571   0.328822  0.066654   0.090144   \nAG1     47.0                      0.306569  -0.111012  0.134480   0.383211   \nAH1     41.5                      0.053149  -0.587445 -0.201514  -0.109428   \nAM1     27.0                      0.282485   0.018403  0.022231   0.188172   \nAP1     17.0                     -0.347815   0.319397  0.000591   0.078307   \nAV1     48.5                      0.175074  -0.387611  0.052235  -0.024805   \nBN1     75.0                     -0.038809  -0.728903 -0.231144  -0.228904   \nCD1     15.0                     -0.096471   0.538524 -0.245238  -0.117245   \nCG1     32.0                     -0.174109  -0.391946 -0.227566  -0.234415   \nCH1     39.0                     -0.059146  -0.220916 -0.074791  -0.102678   \nCK1     34.0                     -0.003327   0.424751  0.340556   0.414037   \nCM1     29.5                     -0.046474  -0.228957 -0.141701  -0.204083   \nCM2     73.0                     -0.093101   0.022224 -0.138625  -0.146846   \nEH1     21.0                      0.075014  -0.232897  0.164956   0.163911   \nEK1     12.0                      0.594432   0.426132  0.148727   0.230332   \nHK1     17.0                      0.342150  -0.083788 -0.145933   0.028612   \nHS1     67.0                      0.282753   0.406176  0.335956   0.196589   \nJC1     12.5                     -0.245487  -0.114096  0.461675   0.423033   \nJH1     8.5                      -0.436629   0.030619 -0.067469  -0.161402   \nJM1     34.0                     -0.092186  -0.248228  0.032499  -0.261711   \nJR1     34.0                     -0.314962  -0.335591  0.186149   0.181923   \nJS1     57.0                      0.145920  -0.412675  0.073304   0.034636   \nKK1     11.5                      0.177504   0.627693 -0.093636   0.065427   \nKP1     38.0                     -0.394266   0.048087  0.084598   0.137549   \nKR1     25.0                      0.274199   0.091299  0.043725   0.101591   \nLB1     12.0                     -0.077252   0.523944  0.201031   0.160061   \nMB1     39.0                     -0.508834  -0.197620  0.120594   0.238618   \nMG1     57.0                      0.103446  -0.391765 -0.196853  -0.230927   \nMP1     45.0                     -0.223660  -1.718725 -0.347002  -0.390681   \nNW1     26.0                      0.506492  -0.416295  0.249410   0.282511   \nSK1     39.0                     -0.352156  -0.490515  0.027996  -0.082257   \nSM2     44.0                      0.050111   0.283964  0.091067   0.272469   \nSR1     21.5                      0.307517  -0.093463 -0.061598  -0.038674   \nUP1     46.0                      0.008922   0.713302  0.203551   0.191923   \nWK1     62.0                     -0.180158  -0.173652  0.092366  -0.124191   \nZN1     55.0                     -0.526784  -0.730718  0.201293   0.330730   \n\n                                          \nepoch_                                    \nregion_agg                   subc_Vermis  \nSubject Score_median_first20              \nAB1     14.0                    0.126481  \nAG1     47.0                    0.502256  \nAH1     41.5                   -0.048631  \nAM1     27.0                    0.171624  \nAP1     17.0                   -0.024906  \nAV1     48.5                   -0.069381  \nBN1     75.0                   -0.189760  \nCD1     15.0                   -0.005373  \nCG1     32.0                   -0.083529  \nCH1     39.0                   -0.073980  \nCK1     34.0                    0.465312  \nCM1     29.5                   -0.124446  \nCM2     73.0                   -0.119354  \nEH1     21.0                    0.102941  \nEK1     12.0                    0.369421  \nHK1     17.0                   -0.068049  \nHS1     67.0                    0.323352  \nJC1     12.5                    0.262471  \nJH1     8.5                    -0.131741  \nJM1     34.0                   -0.223621  \nJR1     34.0                    0.270587  \nJS1     57.0                    0.183609  \nKK1     11.5                   -0.158449  \nKP1     38.0                    0.388795  \nKR1     25.0                    0.066441  \nLB1     12.0                    0.273425  \nMB1     39.0                    0.254944  \nMG1     57.0                   -0.266803  \nMP1     45.0                   -0.356233  \nNW1     26.0                    0.502029  \nSK1     39.0                   -0.101663  \nSM2     44.0                    0.097613  \nSR1     21.5                    0.053886  \nUP1     46.0                    0.230194  \nWK1     62.0                   -0.196158  \nZN1     55.0                    0.155558  ",
      "text/html": "<div>\n<style scoped>\n    .dataframe tbody tr th:only-of-type {\n        vertical-align: middle;\n    }\n\n    .dataframe tbody tr th {\n        vertical-align: top;\n    }\n\n    .dataframe thead tr th {\n        text-align: left;\n    }\n\n    .dataframe thead tr:last-of-type th {\n        text-align: right;\n    }\n</style>\n<table border=\"1\" class=\"dataframe\">\n  <thead>\n    <tr>\n      <th></th>\n      <th></th>\n      <th colspan=\"17\" halign=\"left\">value</th>\n    </tr>\n    <tr>\n      <th></th>\n      <th>epoch_</th>\n      <th colspan=\"17\" halign=\"left\">b2e</th>\n    </tr>\n    <tr>\n      <th></th>\n      <th>region_agg</th>\n      <th>cor_LH_Cont</th>\n      <th>cor_LH_Default</th>\n      <th>cor_LH_DorsAttn</th>\n      <th>cor_LH_Limbic</th>\n      <th>cor_LH_SalVentAttn</th>\n      <th>cor_LH_SomMot</th>\n      <th>cor_LH_Vis</th>\n      <th>cor_RH_Cont</th>\n      <th>cor_RH_Default</th>\n      <th>cor_RH_DorsAttn</th>\n      <th>cor_RH_Limbic</th>\n      <th>cor_RH_SalVentAttn</th>\n      <th>cor_RH_SomMot</th>\n      <th>cor_RH_Vis</th>\n      <th>subc_Left</th>\n      <th>subc_Right</th>\n      <th>subc_Vermis</th>\n    </tr>\n    <tr>\n      <th>Subject</th>\n      <th>Score_median_first20</th>\n      <th></th>\n      <th></th>\n      <th></th>\n      <th></th>\n      <th></th>\n      <th></th>\n      <th></th>\n      <th></th>\n      <th></th>\n      <th></th>\n      <th></th>\n      <th></th>\n      <th></th>\n      <th></th>\n      <th></th>\n      <th></th>\n      <th></th>\n    </tr>\n  </thead>\n  <tbody>\n    <tr>\n      <th>AB1</th>\n      <th>14.0</th>\n      <td>0.096832</td>\n      <td>0.285795</td>\n      <td>0.336393</td>\n      <td>0.191118</td>\n      <td>0.141011</td>\n      <td>0.004024</td>\n      <td>0.448154</td>\n      <td>-0.133301</td>\n      <td>-0.009500</td>\n      <td>0.718707</td>\n      <td>0.033962</td>\n      <td>0.088570</td>\n      <td>0.153571</td>\n      <td>0.328822</td>\n      <td>0.066654</td>\n      <td>0.090144</td>\n      <td>0.126481</td>\n    </tr>\n    <tr>\n      <th>AG1</th>\n      <th>47.0</th>\n      <td>0.023247</td>\n      <td>0.134270</td>\n      <td>0.016678</td>\n      <td>-0.172098</td>\n      <td>0.584519</td>\n      <td>0.466026</td>\n      <td>-0.106237</td>\n      <td>0.255863</td>\n      <td>-0.195050</td>\n      <td>0.175015</td>\n      <td>0.100814</td>\n      <td>0.383854</td>\n      <td>0.306569</td>\n      <td>-0.111012</td>\n      <td>0.134480</td>\n      <td>0.383211</td>\n      <td>0.502256</td>\n    </tr>\n    <tr>\n      <th>AH1</th>\n      <th>41.5</th>\n      <td>-0.323308</td>\n      <td>-0.037860</td>\n      <td>-0.711544</td>\n      <td>-0.305593</td>\n      <td>-0.227577</td>\n      <td>0.013477</td>\n      <td>-0.423758</td>\n      <td>-0.185166</td>\n      <td>-0.366852</td>\n      <td>-0.494792</td>\n      <td>-0.286635</td>\n      <td>-0.151108</td>\n      <td>0.053149</td>\n      <td>-0.587445</td>\n      <td>-0.201514</td>\n      <td>-0.109428</td>\n      <td>-0.048631</td>\n    </tr>\n    <tr>\n      <th>AM1</th>\n      <th>27.0</th>\n      <td>0.175577</td>\n      <td>0.412751</td>\n      <td>0.288554</td>\n      <td>0.048740</td>\n      <td>0.684970</td>\n      <td>0.351564</td>\n      <td>0.214291</td>\n      <td>0.090384</td>\n      <td>0.558743</td>\n      <td>-0.080070</td>\n      <td>0.150474</td>\n      <td>0.624782</td>\n      <td>0.282485</td>\n      <td>0.018403</td>\n      <td>0.022231</td>\n      <td>0.188172</td>\n      <td>0.171624</td>\n    </tr>\n    <tr>\n      <th>AP1</th>\n      <th>17.0</th>\n      <td>0.467508</td>\n      <td>0.169592</td>\n      <td>-0.193752</td>\n      <td>-0.240978</td>\n      <td>0.309113</td>\n      <td>-0.226975</td>\n      <td>0.522462</td>\n      <td>-0.106493</td>\n      <td>-0.040279</td>\n      <td>-0.234033</td>\n      <td>-0.575223</td>\n      <td>-0.114633</td>\n      <td>-0.347815</td>\n      <td>0.319397</td>\n      <td>0.000591</td>\n      <td>0.078307</td>\n      <td>-0.024906</td>\n    </tr>\n    <tr>\n      <th>AV1</th>\n      <th>48.5</th>\n      <td>-0.038907</td>\n      <td>-0.278500</td>\n      <td>0.676340</td>\n      <td>-0.182464</td>\n      <td>0.137662</td>\n      <td>0.267408</td>\n      <td>-0.640726</td>\n      <td>-0.031024</td>\n      <td>-0.274715</td>\n      <td>0.355416</td>\n      <td>-0.015683</td>\n      <td>-0.228331</td>\n      <td>0.175074</td>\n      <td>-0.387611</td>\n      <td>0.052235</td>\n      <td>-0.024805</td>\n      <td>-0.069381</td>\n    </tr>\n    <tr>\n      <th>BN1</th>\n      <th>75.0</th>\n      <td>0.056349</td>\n      <td>-0.016979</td>\n      <td>-0.353304</td>\n      <td>-0.461987</td>\n      <td>-0.095968</td>\n      <td>-0.302246</td>\n      <td>-0.727874</td>\n      <td>-0.240385</td>\n      <td>-0.361364</td>\n      <td>-0.243420</td>\n      <td>-0.357939</td>\n      <td>-0.248423</td>\n      <td>-0.038809</td>\n      <td>-0.728903</td>\n      <td>-0.231144</td>\n      <td>-0.228904</td>\n      <td>-0.189760</td>\n    </tr>\n    <tr>\n      <th>CD1</th>\n      <th>15.0</th>\n      <td>0.051840</td>\n      <td>-0.055279</td>\n      <td>-0.196941</td>\n      <td>-0.095444</td>\n      <td>-0.239501</td>\n      <td>-0.159295</td>\n      <td>0.439867</td>\n      <td>0.079581</td>\n      <td>-0.485805</td>\n      <td>-0.051421</td>\n      <td>-0.295864</td>\n      <td>-0.196582</td>\n      <td>-0.096471</td>\n      <td>0.538524</td>\n      <td>-0.245238</td>\n      <td>-0.117245</td>\n      <td>-0.005373</td>\n    </tr>\n    <tr>\n      <th>CG1</th>\n      <th>32.0</th>\n      <td>0.108409</td>\n      <td>0.024720</td>\n      <td>0.175183</td>\n      <td>-0.050737</td>\n      <td>-0.377077</td>\n      <td>-0.248930</td>\n      <td>-0.497208</td>\n      <td>0.301012</td>\n      <td>-0.195419</td>\n      <td>0.396552</td>\n      <td>-0.098774</td>\n      <td>0.029727</td>\n      <td>-0.174109</td>\n      <td>-0.391946</td>\n      <td>-0.227566</td>\n      <td>-0.234415</td>\n      <td>-0.083529</td>\n    </tr>\n    <tr>\n      <th>CH1</th>\n      <th>39.0</th>\n      <td>0.177342</td>\n      <td>-0.087421</td>\n      <td>-0.016997</td>\n      <td>-0.433329</td>\n      <td>-0.306632</td>\n      <td>-0.416012</td>\n      <td>-0.262217</td>\n      <td>0.006448</td>\n      <td>-0.122991</td>\n      <td>-0.126323</td>\n      <td>-0.404632</td>\n      <td>-0.520902</td>\n      <td>-0.059146</td>\n      <td>-0.220916</td>\n      <td>-0.074791</td>\n      <td>-0.102678</td>\n      <td>-0.073980</td>\n    </tr>\n    <tr>\n      <th>CK1</th>\n      <th>34.0</th>\n      <td>0.086924</td>\n      <td>0.137110</td>\n      <td>0.299040</td>\n      <td>-0.123841</td>\n      <td>0.162907</td>\n      <td>0.514591</td>\n      <td>0.492125</td>\n      <td>0.150974</td>\n      <td>0.323942</td>\n      <td>0.202864</td>\n      <td>0.062451</td>\n      <td>-0.201537</td>\n      <td>-0.003327</td>\n      <td>0.424751</td>\n      <td>0.340556</td>\n      <td>0.414037</td>\n      <td>0.465312</td>\n    </tr>\n    <tr>\n      <th>CM1</th>\n      <th>29.5</th>\n      <td>0.210084</td>\n      <td>-0.287603</td>\n      <td>0.282841</td>\n      <td>0.191320</td>\n      <td>-0.181049</td>\n      <td>0.408398</td>\n      <td>-0.415814</td>\n      <td>0.109322</td>\n      <td>-0.269060</td>\n      <td>-0.058011</td>\n      <td>-0.289565</td>\n      <td>-0.306033</td>\n      <td>-0.046474</td>\n      <td>-0.228957</td>\n      <td>-0.141701</td>\n      <td>-0.204083</td>\n      <td>-0.124446</td>\n    </tr>\n    <tr>\n      <th>CM2</th>\n      <th>73.0</th>\n      <td>0.268694</td>\n      <td>0.294601</td>\n      <td>-0.253968</td>\n      <td>0.040571</td>\n      <td>-0.332977</td>\n      <td>-0.143175</td>\n      <td>-0.212977</td>\n      <td>0.415070</td>\n      <td>0.127135</td>\n      <td>0.055575</td>\n      <td>-0.087133</td>\n      <td>-0.163736</td>\n      <td>-0.093101</td>\n      <td>0.022224</td>\n      <td>-0.138625</td>\n      <td>-0.146846</td>\n      <td>-0.119354</td>\n    </tr>\n    <tr>\n      <th>EH1</th>\n      <th>21.0</th>\n      <td>0.387339</td>\n      <td>0.257275</td>\n      <td>0.291328</td>\n      <td>0.031696</td>\n      <td>0.448034</td>\n      <td>0.225895</td>\n      <td>-0.088108</td>\n      <td>0.405360</td>\n      <td>0.145292</td>\n      <td>0.361376</td>\n      <td>0.181480</td>\n      <td>0.309237</td>\n      <td>0.075014</td>\n      <td>-0.232897</td>\n      <td>0.164956</td>\n      <td>0.163911</td>\n      <td>0.102941</td>\n    </tr>\n    <tr>\n      <th>EK1</th>\n      <th>12.0</th>\n      <td>0.013718</td>\n      <td>-0.145739</td>\n      <td>0.582988</td>\n      <td>0.007816</td>\n      <td>0.292638</td>\n      <td>0.670939</td>\n      <td>0.623340</td>\n      <td>-0.264783</td>\n      <td>0.040501</td>\n      <td>0.387089</td>\n      <td>-0.033781</td>\n      <td>0.560147</td>\n      <td>0.594432</td>\n      <td>0.426132</td>\n      <td>0.148727</td>\n      <td>0.230332</td>\n      <td>0.369421</td>\n    </tr>\n    <tr>\n      <th>HK1</th>\n      <th>17.0</th>\n      <td>0.321216</td>\n      <td>0.582425</td>\n      <td>0.415549</td>\n      <td>0.005094</td>\n      <td>0.273420</td>\n      <td>0.180396</td>\n      <td>0.045845</td>\n      <td>0.132566</td>\n      <td>0.025067</td>\n      <td>0.036989</td>\n      <td>-0.262870</td>\n      <td>0.033580</td>\n      <td>0.342150</td>\n      <td>-0.083788</td>\n      <td>-0.145933</td>\n      <td>0.028612</td>\n      <td>-0.068049</td>\n    </tr>\n    <tr>\n      <th>HS1</th>\n      <th>67.0</th>\n      <td>0.170226</td>\n      <td>-0.168491</td>\n      <td>0.353160</td>\n      <td>-0.060915</td>\n      <td>0.104842</td>\n      <td>0.046738</td>\n      <td>0.540557</td>\n      <td>0.363904</td>\n      <td>-0.218475</td>\n      <td>0.434677</td>\n      <td>0.051692</td>\n      <td>0.251354</td>\n      <td>0.282753</td>\n      <td>0.406176</td>\n      <td>0.335956</td>\n      <td>0.196589</td>\n      <td>0.323352</td>\n    </tr>\n    <tr>\n      <th>JC1</th>\n      <th>12.5</th>\n      <td>0.441986</td>\n      <td>0.234091</td>\n      <td>0.437221</td>\n      <td>-0.171470</td>\n      <td>0.216009</td>\n      <td>-0.057136</td>\n      <td>0.280812</td>\n      <td>-0.175299</td>\n      <td>0.204475</td>\n      <td>0.016970</td>\n      <td>-0.273127</td>\n      <td>0.104580</td>\n      <td>-0.245487</td>\n      <td>-0.114096</td>\n      <td>0.461675</td>\n      <td>0.423033</td>\n      <td>0.262471</td>\n    </tr>\n    <tr>\n      <th>JH1</th>\n      <th>8.5</th>\n      <td>-0.026666</td>\n      <td>0.106128</td>\n      <td>0.104092</td>\n      <td>0.458677</td>\n      <td>-0.207485</td>\n      <td>-0.334236</td>\n      <td>0.130646</td>\n      <td>-0.122474</td>\n      <td>0.023361</td>\n      <td>0.134300</td>\n      <td>0.100017</td>\n      <td>0.038777</td>\n      <td>-0.436629</td>\n      <td>0.030619</td>\n      <td>-0.067469</td>\n      <td>-0.161402</td>\n      <td>-0.131741</td>\n    </tr>\n    <tr>\n      <th>JM1</th>\n      <th>34.0</th>\n      <td>-0.281974</td>\n      <td>-0.076701</td>\n      <td>0.006779</td>\n      <td>-0.074407</td>\n      <td>0.129751</td>\n      <td>0.341420</td>\n      <td>-0.310428</td>\n      <td>-0.134713</td>\n      <td>-0.202092</td>\n      <td>0.027413</td>\n      <td>-0.243208</td>\n      <td>-0.365198</td>\n      <td>-0.092186</td>\n      <td>-0.248228</td>\n      <td>0.032499</td>\n      <td>-0.261711</td>\n      <td>-0.223621</td>\n    </tr>\n    <tr>\n      <th>JR1</th>\n      <th>34.0</th>\n      <td>-0.072512</td>\n      <td>0.251876</td>\n      <td>-0.125334</td>\n      <td>0.136915</td>\n      <td>-0.049604</td>\n      <td>-0.354429</td>\n      <td>-0.095955</td>\n      <td>0.192945</td>\n      <td>-0.159106</td>\n      <td>-0.083395</td>\n      <td>-0.114102</td>\n      <td>-0.111037</td>\n      <td>-0.314962</td>\n      <td>-0.335591</td>\n      <td>0.186149</td>\n      <td>0.181923</td>\n      <td>0.270587</td>\n    </tr>\n    <tr>\n      <th>JS1</th>\n      <th>57.0</th>\n      <td>0.057821</td>\n      <td>0.119935</td>\n      <td>0.076817</td>\n      <td>-0.161564</td>\n      <td>0.178161</td>\n      <td>0.385102</td>\n      <td>-0.150975</td>\n      <td>-0.237924</td>\n      <td>-0.045934</td>\n      <td>-0.095143</td>\n      <td>0.030309</td>\n      <td>0.066808</td>\n      <td>0.145920</td>\n      <td>-0.412675</td>\n      <td>0.073304</td>\n      <td>0.034636</td>\n      <td>0.183609</td>\n    </tr>\n    <tr>\n      <th>KK1</th>\n      <th>11.5</th>\n      <td>-0.025902</td>\n      <td>0.484708</td>\n      <td>0.069643</td>\n      <td>-0.103952</td>\n      <td>0.453943</td>\n      <td>0.125557</td>\n      <td>0.744675</td>\n      <td>0.217756</td>\n      <td>0.099546</td>\n      <td>0.239251</td>\n      <td>0.041224</td>\n      <td>0.429918</td>\n      <td>0.177504</td>\n      <td>0.627693</td>\n      <td>-0.093636</td>\n      <td>0.065427</td>\n      <td>-0.158449</td>\n    </tr>\n    <tr>\n      <th>KP1</th>\n      <th>38.0</th>\n      <td>0.131821</td>\n      <td>0.172627</td>\n      <td>0.242722</td>\n      <td>-0.000527</td>\n      <td>0.143837</td>\n      <td>-0.173275</td>\n      <td>0.350981</td>\n      <td>0.013444</td>\n      <td>-0.083172</td>\n      <td>0.126382</td>\n      <td>-0.044354</td>\n      <td>0.048137</td>\n      <td>-0.394266</td>\n      <td>0.048087</td>\n      <td>0.084598</td>\n      <td>0.137549</td>\n      <td>0.388795</td>\n    </tr>\n    <tr>\n      <th>KR1</th>\n      <th>25.0</th>\n      <td>0.492554</td>\n      <td>0.689035</td>\n      <td>0.391546</td>\n      <td>0.061062</td>\n      <td>0.117760</td>\n      <td>0.363120</td>\n      <td>0.007332</td>\n      <td>0.464407</td>\n      <td>0.486510</td>\n      <td>0.257641</td>\n      <td>-0.008868</td>\n      <td>0.167348</td>\n      <td>0.274199</td>\n      <td>0.091299</td>\n      <td>0.043725</td>\n      <td>0.101591</td>\n      <td>0.066441</td>\n    </tr>\n    <tr>\n      <th>LB1</th>\n      <th>12.0</th>\n      <td>-0.088604</td>\n      <td>0.422639</td>\n      <td>0.162973</td>\n      <td>-0.061952</td>\n      <td>0.070794</td>\n      <td>-0.100209</td>\n      <td>0.464483</td>\n      <td>0.166278</td>\n      <td>-0.112810</td>\n      <td>0.365456</td>\n      <td>-0.139236</td>\n      <td>-0.022398</td>\n      <td>-0.077252</td>\n      <td>0.523944</td>\n      <td>0.201031</td>\n      <td>0.160061</td>\n      <td>0.273425</td>\n    </tr>\n    <tr>\n      <th>MB1</th>\n      <th>39.0</th>\n      <td>-0.056847</td>\n      <td>0.236683</td>\n      <td>-0.310333</td>\n      <td>-0.420323</td>\n      <td>0.395842</td>\n      <td>-0.279680</td>\n      <td>-0.298043</td>\n      <td>-0.335835</td>\n      <td>-0.135304</td>\n      <td>-0.234160</td>\n      <td>-0.302696</td>\n      <td>0.003819</td>\n      <td>-0.508834</td>\n      <td>-0.197620</td>\n      <td>0.120594</td>\n      <td>0.238618</td>\n      <td>0.254944</td>\n    </tr>\n    <tr>\n      <th>MG1</th>\n      <th>57.0</th>\n      <td>-0.252071</td>\n      <td>-0.571489</td>\n      <td>-0.340796</td>\n      <td>-0.205559</td>\n      <td>-0.285394</td>\n      <td>-0.190710</td>\n      <td>-0.268854</td>\n      <td>-0.198966</td>\n      <td>-0.395889</td>\n      <td>-0.384115</td>\n      <td>-0.347200</td>\n      <td>-0.225898</td>\n      <td>0.103446</td>\n      <td>-0.391765</td>\n      <td>-0.196853</td>\n      <td>-0.230927</td>\n      <td>-0.266803</td>\n    </tr>\n    <tr>\n      <th>MP1</th>\n      <th>45.0</th>\n      <td>0.038101</td>\n      <td>-0.436873</td>\n      <td>-0.311200</td>\n      <td>-0.566607</td>\n      <td>-0.674823</td>\n      <td>-0.209500</td>\n      <td>-1.388130</td>\n      <td>-0.376981</td>\n      <td>-0.475804</td>\n      <td>-0.486909</td>\n      <td>-0.833874</td>\n      <td>-0.545897</td>\n      <td>-0.223660</td>\n      <td>-1.718725</td>\n      <td>-0.347002</td>\n      <td>-0.390681</td>\n      <td>-0.356233</td>\n    </tr>\n    <tr>\n      <th>NW1</th>\n      <th>26.0</th>\n      <td>-0.284932</td>\n      <td>-0.155696</td>\n      <td>0.231738</td>\n      <td>-0.321735</td>\n      <td>0.158029</td>\n      <td>0.738793</td>\n      <td>-0.509783</td>\n      <td>-0.087884</td>\n      <td>-0.138356</td>\n      <td>0.496930</td>\n      <td>-0.181796</td>\n      <td>-0.025801</td>\n      <td>0.506492</td>\n      <td>-0.416295</td>\n      <td>0.249410</td>\n      <td>0.282511</td>\n      <td>0.502029</td>\n    </tr>\n    <tr>\n      <th>SK1</th>\n      <th>39.0</th>\n      <td>0.353440</td>\n      <td>0.344001</td>\n      <td>-0.212267</td>\n      <td>0.011286</td>\n      <td>-0.277125</td>\n      <td>-0.489517</td>\n      <td>-0.061978</td>\n      <td>0.330996</td>\n      <td>0.195117</td>\n      <td>-0.078838</td>\n      <td>0.092912</td>\n      <td>-0.110644</td>\n      <td>-0.352156</td>\n      <td>-0.490515</td>\n      <td>0.027996</td>\n      <td>-0.082257</td>\n      <td>-0.101663</td>\n    </tr>\n    <tr>\n      <th>SM2</th>\n      <th>44.0</th>\n      <td>0.156058</td>\n      <td>0.257919</td>\n      <td>0.384763</td>\n      <td>0.080896</td>\n      <td>0.152030</td>\n      <td>0.202089</td>\n      <td>0.151459</td>\n      <td>-0.094142</td>\n      <td>-0.164098</td>\n      <td>0.193566</td>\n      <td>0.104784</td>\n      <td>-0.063945</td>\n      <td>0.050111</td>\n      <td>0.283964</td>\n      <td>0.091067</td>\n      <td>0.272469</td>\n      <td>0.097613</td>\n    </tr>\n    <tr>\n      <th>SR1</th>\n      <th>21.5</th>\n      <td>-0.047300</td>\n      <td>-0.070251</td>\n      <td>-0.042661</td>\n      <td>-0.290926</td>\n      <td>-0.490961</td>\n      <td>0.141022</td>\n      <td>-0.125938</td>\n      <td>-0.084477</td>\n      <td>-0.511392</td>\n      <td>0.142195</td>\n      <td>-0.459900</td>\n      <td>-0.573242</td>\n      <td>0.307517</td>\n      <td>-0.093463</td>\n      <td>-0.061598</td>\n      <td>-0.038674</td>\n      <td>0.053886</td>\n    </tr>\n    <tr>\n      <th>UP1</th>\n      <th>46.0</th>\n      <td>0.141589</td>\n      <td>0.151221</td>\n      <td>0.142272</td>\n      <td>0.022815</td>\n      <td>0.133355</td>\n      <td>0.163306</td>\n      <td>1.118926</td>\n      <td>-0.426311</td>\n      <td>-0.036800</td>\n      <td>0.057457</td>\n      <td>-0.140345</td>\n      <td>-0.173087</td>\n      <td>0.008922</td>\n      <td>0.713302</td>\n      <td>0.203551</td>\n      <td>0.191923</td>\n      <td>0.230194</td>\n    </tr>\n    <tr>\n      <th>WK1</th>\n      <th>62.0</th>\n      <td>0.068048</td>\n      <td>0.233606</td>\n      <td>0.053965</td>\n      <td>0.047418</td>\n      <td>-0.042987</td>\n      <td>0.142878</td>\n      <td>-0.112929</td>\n      <td>0.186223</td>\n      <td>0.062975</td>\n      <td>-0.040481</td>\n      <td>-0.191279</td>\n      <td>-0.016101</td>\n      <td>-0.180158</td>\n      <td>-0.173652</td>\n      <td>0.092366</td>\n      <td>-0.124191</td>\n      <td>-0.196158</td>\n    </tr>\n    <tr>\n      <th>ZN1</th>\n      <th>55.0</th>\n      <td>0.146824</td>\n      <td>-0.541973</td>\n      <td>-0.176711</td>\n      <td>-0.314063</td>\n      <td>0.160933</td>\n      <td>-0.103045</td>\n      <td>-0.715399</td>\n      <td>-0.297575</td>\n      <td>-0.164273</td>\n      <td>-0.387589</td>\n      <td>-0.273056</td>\n      <td>-0.072217</td>\n      <td>-0.526784</td>\n      <td>-0.730718</td>\n      <td>0.201293</td>\n      <td>0.330730</td>\n      <td>0.155558</td>\n    </tr>\n  </tbody>\n</table>\n</div>"
     },
     "execution_count": 208,
     "metadata": {},
     "output_type": "execute_result"
    }
   ],
   "source": [
    "dfecc = dfecc.pivot_table(columns=['epoch_', 'region_agg'],\n",
    "               values=['value'],\n",
    "               index=['Subject', 'Score_median_first20'])\n",
    "\n",
    "dfecc"
   ],
   "metadata": {
    "collapsed": false,
    "pycharm": {
     "name": "#%%\n"
    }
   }
  },
  {
   "cell_type": "code",
   "execution_count": 224,
   "outputs": [],
   "source": [
    "# dfecc[('value',  'b2e', 'cor_LH_Cont')]"
   ],
   "metadata": {
    "collapsed": false,
    "pycharm": {
     "name": "#%%\n"
    }
   }
  },
  {
   "cell_type": "code",
   "execution_count": 210,
   "outputs": [
    {
     "name": "stderr",
     "output_type": "stream",
     "text": [
      "/var/folders/2q/y6tqndfj1yqfc7hcdp99tz_00000gn/T/ipykernel_18449/1566465353.py:1: PerformanceWarning: dropping on a non-lexsorted multi-index without a level parameter may impact performance.\n",
      "  X = dfecc.reset_index().drop(['Subject', 'Score_median_first20'], axis=1)\n"
     ]
    }
   ],
   "source": [
    "X = dfecc.reset_index().drop(['Subject', 'Score_median_first20'], axis=1)\n",
    "\n",
    "y = dfecc.reset_index()['Score_median_first20']"
   ],
   "metadata": {
    "collapsed": false,
    "pycharm": {
     "name": "#%%\n"
    }
   }
  },
  {
   "cell_type": "code",
   "execution_count": 212,
   "metadata": {
    "pycharm": {
     "name": "#%%\n"
    }
   },
   "outputs": [],
   "source": [
    "import xgboost as xgb\n",
    "\n",
    "\n",
    "# define data_dmatrix\n",
    "data_dmatrix = xgb.DMatrix(data=X,label=y,\n",
    "                           # enable_categorical=True\n",
    "                           )"
   ]
  },
  {
   "cell_type": "code",
   "execution_count": 213,
   "metadata": {
    "pycharm": {
     "name": "#%%\n"
    }
   },
   "outputs": [],
   "source": [
    "# split X and y into training and testing sets\n",
    "\n",
    "from sklearn.model_selection import train_test_split\n",
    "\n",
    "X_train, X_test, y_train, y_test = train_test_split(X, y, test_size = 0.3, random_state = 0)"
   ]
  },
  {
   "cell_type": "code",
   "execution_count": 216,
   "metadata": {
    "pycharm": {
     "name": "#%%\n"
    }
   },
   "outputs": [
    {
     "data": {
      "text/plain": "22.73254208230508"
     },
     "execution_count": 216,
     "metadata": {},
     "output_type": "execute_result"
    }
   ],
   "source": [
    "from xgboost import XGBRegressor\n",
    "from sklearn.metrics import mean_squared_error\n",
    "\n",
    "params = {'n_estimators': 50,\n",
    "          'max_depth': 5,\n",
    "          'eta': 0.1,\n",
    "          'subsample': .7,\n",
    "          'colsample_bytree': 0.05}\n",
    "\n",
    "xgb_clf = XGBRegressor(**params)\n",
    "\n",
    "\n",
    "# fit the classifier to the training data\n",
    "xgb_clf.fit(X_train, y_train)\n",
    "\n",
    "mean_squared_error(y_train, xgb_clf.predict(X_train))"
   ]
  },
  {
   "cell_type": "code",
   "execution_count": 217,
   "metadata": {
    "pycharm": {
     "name": "#%%\n"
    }
   },
   "outputs": [],
   "source": [
    "# make predictions on test data\n",
    "\n",
    "y_pred = xgb_clf.predict(X_test)"
   ]
  },
  {
   "cell_type": "code",
   "execution_count": 218,
   "outputs": [
    {
     "data": {
      "text/plain": "31    44.0\n20    34.0\n16    67.0\n30    39.0\n22    11.5\n15    17.0\n10    34.0\n2     41.5\n11    29.5\n29    26.0\n27    57.0\nName: Score_median_first20, dtype: float64"
     },
     "execution_count": 218,
     "metadata": {},
     "output_type": "execute_result"
    }
   ],
   "source": [
    "y_test"
   ],
   "metadata": {
    "collapsed": false,
    "pycharm": {
     "name": "#%%\n"
    }
   }
  },
  {
   "cell_type": "code",
   "execution_count": 219,
   "outputs": [
    {
     "data": {
      "text/plain": "array([34.30821 , 32.223026, 20.805454, 34.209915, 23.603525, 26.479153,\n       27.530115, 38.610466, 39.014343, 35.81768 , 48.528263],\n      dtype=float32)"
     },
     "execution_count": 219,
     "metadata": {},
     "output_type": "execute_result"
    }
   ],
   "source": [
    "y_pred"
   ],
   "metadata": {
    "collapsed": false,
    "pycharm": {
     "name": "#%%\n"
    }
   }
  },
  {
   "cell_type": "code",
   "execution_count": 220,
   "metadata": {
    "pycharm": {
     "name": "#%%\n"
    }
   },
   "outputs": [
    {
     "name": "stdout",
     "output_type": "stream",
     "text": [
      "XGBoost model mean sq error: 254.4734\n"
     ]
    }
   ],
   "source": [
    "# compute and print accuracy score\n",
    "\n",
    "\n",
    "print('XGBoost model mean sq error: {0:0.4f}'. format(mean_squared_error(y_test, y_pred)))"
   ]
  },
  {
   "cell_type": "markdown",
   "metadata": {
    "pycharm": {
     "name": "#%% md\n"
    }
   },
   "source": [
    "# **6. Feature importance with XGBoost** <a class=\"anchor\" id=\"6\"></a>\n",
    "\n",
    "[Table of Contents](#0.1)\n",
    "\n",
    "\n",
    "- XGBoost provides a way to examine the importance of each feature in the original dataset within the model. \n",
    "\n",
    "- It involves counting the number of times each feature is split on across all boosting trees in the model. \n",
    "\n",
    "- Then we visualize the result as a bar graph, with the features ordered according to how many times they appear.\n",
    "\n",
    "- XGBoost has a **plot_importance()** function that helps us to achieve this task. \n",
    "\n",
    "- Then we can visualize the features that has been given the highest important score among all the features. \n",
    "\n",
    "- Thus XGBoost provides us a way to do feature selection.\n",
    "\n",
    "- We will proceed as follows:-"
   ]
  },
  {
   "cell_type": "code",
   "execution_count": 221,
   "outputs": [
    {
     "data": {
      "text/plain": "16"
     },
     "execution_count": 221,
     "metadata": {},
     "output_type": "execute_result"
    }
   ],
   "source": [
    "scores = xgb_clf.get_booster().get_score()\n",
    "len(scores)"
   ],
   "metadata": {
    "collapsed": false,
    "pycharm": {
     "name": "#%%\n"
    }
   }
  },
  {
   "cell_type": "code",
   "execution_count": 222,
   "outputs": [
    {
     "data": {
      "text/plain": "{'value b2e cor_LH_Cont': 12.0,\n 'value b2e cor_LH_Default': 18.0,\n 'value b2e cor_LH_DorsAttn': 5.0,\n 'value b2e cor_LH_Limbic': 10.0,\n 'value b2e cor_LH_SalVentAttn': 43.0,\n 'value b2e cor_LH_SomMot': 27.0,\n 'value b2e cor_LH_Vis': 29.0,\n 'value b2e cor_RH_Cont': 9.0,\n 'value b2e cor_RH_Default': 40.0,\n 'value b2e cor_RH_DorsAttn': 26.0,\n 'value b2e cor_RH_Limbic': 19.0,\n 'value b2e cor_RH_SalVentAttn': 36.0,\n 'value b2e cor_RH_SomMot': 29.0,\n 'value b2e cor_RH_Vis': 22.0,\n 'value b2e subc_Left': 26.0,\n 'value b2e subc_Right': 15.0}"
     },
     "execution_count": 222,
     "metadata": {},
     "output_type": "execute_result"
    }
   ],
   "source": [
    "scores"
   ],
   "metadata": {
    "collapsed": false,
    "pycharm": {
     "name": "#%%\n"
    }
   }
  },
  {
   "cell_type": "code",
   "execution_count": 223,
   "metadata": {
    "pycharm": {
     "name": "#%%\n"
    }
   },
   "outputs": [
    {
     "data": {
      "text/plain": "<Figure size 504x864 with 1 Axes>",
      "image/png": "[encoded data removed]"
     },
     "metadata": {
      "needs_background": "light"
     },
     "output_type": "display_data"
    }
   ],
   "source": [
    "plt.rcParams[\"figure.figsize\"] = (7, 12)\n",
    "\n",
    "xgb.plot_importance(xgb_clf)\n",
    "\n",
    "plt.show()"
   ]
  },
  {
   "cell_type": "markdown",
   "metadata": {
    "pycharm": {
     "name": "#%% md\n"
    }
   },
   "source": [
    "- We can see that the feature `Delicassesn` has been given the highest importance score among all the features. \n",
    "\n",
    "- Based upon this importance score, we can select the features with highest importance score and discard the redundant ones.\n",
    "\n",
    "- Thus XGBoost also gives us a way to do feature selection."
   ]
  },
  {
   "cell_type": "markdown",
   "source": [
    "# References** <a class=\"anchor\" id=\"8\"></a>\n",
    "\n",
    "[Table of Contents](#0.1)\n",
    "\n",
    "\n",
    "The ideas and concepts in this kernel are taken from the following websites -\n",
    "\n",
    "-\thttps://www.datacamp.com/community/tutorials/xgboost-in-python\n",
    "\n",
    "-\thttps://blog.cambridgespark.com/getting-started-with-xgboost-3ba1488bb7d4\n",
    "\n",
    "-\thttps://towardsdatascience.com/a-beginners-guide-to-xgboost-87f5d4c30ed7\n",
    "\n",
    "-\thttps://heartbeat.fritz.ai/boosting-your-machine-learning-models-using-xgboost-d2cabb3e948f\n",
    "\n",
    "-\thttps://towardsdatascience.com/https-medium-com-vishalmorde-xgboost-algorithm-long-she-may-rein-edd9f99be63d\n",
    "\n",
    "-   https://medium.com/@gabrieltseng/gradient-boosting-and-xgboost-c306c1bcfaf5\n",
    "\n",
    "-   https://medium.com/mlreview/gradient-boosting-from-scratch-1e317ae4587d"
   ],
   "metadata": {
    "collapsed": false,
    "pycharm": {
     "name": "#%% md\n"
    }
   }
  },
  {
   "cell_type": "code",
   "execution_count": null,
   "outputs": [],
   "source": [],
   "metadata": {
    "collapsed": false,
    "pycharm": {
     "name": "#%%\n"
    }
   }
  }
 ],
 "metadata": {
  "kernelspec": {
   "display_name": "Python 3",
   "language": "python",
   "name": "python3"
  },
  "language_info": {
   "codemirror_mode": {
    "name": "ipython",
    "version": 3
   },
   "file_extension": ".py",
   "mimetype": "text/x-python",
   "name": "python",
   "nbconvert_exporter": "python",
   "pygments_lexer": "ipython3",
   "version": "3.6.6"
  }
 },
 "nbformat": 4,
 "nbformat_minor": 4
}